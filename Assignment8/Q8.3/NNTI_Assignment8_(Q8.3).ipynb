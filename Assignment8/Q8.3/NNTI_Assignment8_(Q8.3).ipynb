{
 "cells": [
  {
   "cell_type": "markdown",
   "metadata": {
    "id": "SJbcHFGh-8jt"
   },
   "source": [
    "# NNTI Assignment 8 (Q8.3) **[Parameter Norm Penalties]**\n",
    "\n",
    "Name 1: <br>\n",
    "Student id 1: <br>\n",
    "Email 1: <br>\n",
    "\n",
    "Name 2: <br>\n",
    "Student id 2:  <br>\n",
    "Email 2:  <br>\n",
    "\n",
    "Name 3: <br>\n",
    "Student id 3:  <br>\n",
    "Email 3: <br>\n",
    "\n",
    "**Instructions:** Read each question carefully. <br/>\n",
    "Make sure you appropriately comment your code wherever required. Your final submission should contain the completed Notebook and the respective  files for any additional exercises necessary. There is no need to resubmit the data files should they be provided separately. <br>\n",
    "\n",
    "\n",
    "Upload the zipped folder on CMS. Please follow the naming convention of **Name1_id1_Name2_id2_Name3_id3.zip **. Only one member of the group should make the submisssion.\n"
   ]
  },
  {
   "cell_type": "markdown",
   "metadata": {
    "id": "hws87e6HE-fm"
   },
   "source": [
    "**NOTE**:\n",
    "1. Pay close attention to the function doc-strings, they give you clues on what to include in your implementation.\n",
    "\n",
    "2. Set the `random_seed = 42` for any part of your code that requires randomness.\n",
    "\n",
    "3. You are free to use the `scikit-learn` library for implementing the regression models."
   ]
  },
  {
   "cell_type": "markdown",
   "metadata": {
    "id": "axIn3P_pA7__"
   },
   "source": [
    "In this exercise, you will be working on the provided `regularization_dataset.csv` dataset. In this dataset, columns `x0` through `x47` correspond to the input and column `y` corresponds to the output.You will be working with linear regression and using different norm penalties to analyze their regularizing behaviour.\n",
    "\n",
    "The basic inputs are provided to you. You are free to import additional components, **but add comments to explain why you added them**."
   ]
  },
  {
   "cell_type": "code",
   "execution_count": 1,
   "metadata": {
    "executionInfo": {
     "elapsed": 476,
     "status": "ok",
     "timestamp": 1733651189707,
     "user": {
      "displayName": "Monseej Purkayastha",
      "userId": "09437515445831882048"
     },
     "user_tz": -60
    },
    "id": "dDVcN_suDb3e"
   },
   "outputs": [],
   "source": [
    "import pandas as pd\n",
    "import numpy as np\n",
    "from sklearn.model_selection import train_test_split\n",
    "from sklearn.metrics import mean_squared_error\n",
    "import matplotlib.pyplot as plt"
   ]
  },
  {
   "cell_type": "markdown",
   "metadata": {
    "id": "n2cH3yawDnSC"
   },
   "source": [
    "## a. Data setup [0.5 points]\n",
    "First things first, let's load the dataset. Complete the function `load_data()` to load data from the supplied csv file.\n",
    "\n"
   ]
  },
  {
   "cell_type": "code",
   "execution_count": 2,
   "metadata": {
    "executionInfo": {
     "elapsed": 5,
     "status": "ok",
     "timestamp": 1733651189978,
     "user": {
      "displayName": "Monseej Purkayastha",
      "userId": "09437515445831882048"
     },
     "user_tz": -60
    },
    "id": "bAdVNh5bQFzO"
   },
   "outputs": [],
   "source": [
    "def load_data(file_path):\n",
    "    \"\"\"\n",
    "    Loads a dataset from the specified CSV file, separates the features and target,\n",
    "    normalizes the features, and splits the data into training and testing sets.\n",
    "\n",
    "    Parameters:\n",
    "    - file_path (str): The path to the CSV file containing the dataset.\n",
    "\n",
    "    Returns:\n",
    "    - X_train (ndarray): The training set features after normalization.\n",
    "    - X_test (ndarray): The testing set features after normalization.\n",
    "    - y_train (ndarray): The training set target values.\n",
    "    - y_test (ndarray): The testing set target values.\n",
    "    \"\"\"\n",
    "    pass"
   ]
  },
  {
   "cell_type": "code",
   "execution_count": null,
   "metadata": {
    "executionInfo": {
     "elapsed": 250,
     "status": "ok",
     "timestamp": 1733651237982,
     "user": {
      "displayName": "Monseej Purkayastha",
      "userId": "09437515445831882048"
     },
     "user_tz": -60
    },
    "id": "7cLn7MLa1ysl"
   },
   "outputs": [],
   "source": [
    "X_train, X_test, y_train, y_test = load_data('regularization_dataset.csv') #Change file path as per requirement"
   ]
  },
  {
   "cell_type": "markdown",
   "metadata": {
    "id": "ecrUDjjC1iss"
   },
   "source": [
    "### b. Regression Model setup [0.5 points]\n",
    "\n",
    "In this part, you will build and evaluate a Linear Regression model trained on the data without any regularization. Complete the function `train_lr()` to train the model, evaluate its performance using Mean Squared Error (MSE), and extract the model's coefficients.\n",
    "\n",
    "**Tasks to implement**:\n",
    "- Initialize the Linear Regression model.\n",
    "- Train the model method on `X_train` and `y_train`.\n",
    "- Make predictions on the test dataset `X_test`.\n",
    "- Calculate the Mean Squared Error (MSE) between the predicted and actual values `y_test`.\n",
    "- Extract the coefficients of the trained model."
   ]
  },
  {
   "cell_type": "code",
   "execution_count": null,
   "metadata": {
    "executionInfo": {
     "elapsed": 237,
     "status": "ok",
     "timestamp": 1733651239816,
     "user": {
      "displayName": "Monseej Purkayastha",
      "userId": "09437515445831882048"
     },
     "user_tz": -60
    },
    "id": "jhROhsN-0qBI"
   },
   "outputs": [],
   "source": [
    "def train_lr(X_train, X_test, y_train, y_test):\n",
    "    \"\"\"\n",
    "    This is a wrapper function for training a linear regression model.\n",
    "\n",
    "    Parameters:\n",
    "    - X_train: Features for training\n",
    "    - X_test: Features for testing\n",
    "    - y_train: Target values for training\n",
    "    - y_test: Target values for testing\n",
    "\n",
    "    Returns:\n",
    "    - model: Trained model\n",
    "    - mse: the mean-squared error at test time\n",
    "    - coeffs: List of coefficients from the trained model\n",
    "    \"\"\"\n",
    "    pass"
   ]
  },
  {
   "cell_type": "markdown",
   "metadata": {
    "id": "WpNFi28j31q1"
   },
   "source": [
    "## c. Regularized Regression Models [0.5 points]\n",
    "\n",
    "In this part, you will build and evaluate regularized linear regression models using Ridge, Lasso, and ElasticNet. These models add a penalty term to the loss function to regularize the coefficients, helping to prevent overfitting. You will complete the function `train_lr_reg()` to train models with different regularization types and evaluate their performance\n",
    "\n",
    "**Tasks to Implement**:\n",
    "\n",
    "- Based on the reg parameter, initialize the appropriate regression model:\n",
    "  - Use standard linear regression when `reg` is None.\n",
    "  - Use ridge when `reg` is `ridge`.\n",
    "  - Use Lasso when `reg` is `lasso`.\n",
    "  - Use ElasticNet when `reg` is `elasticnet`.\n",
    "  - Raise a ValueError for invalid values of `reg`.\n",
    "- Train the selected model on `X_train` and `y_train`.\n",
    "- Make predictions on the test dataset `X_test`.\n",
    "- Calculate the Mean Squared Error (MSE) between the predicted and actual values (`y_test`).\n",
    "- Extract the coefficients of the trained model."
   ]
  },
  {
   "cell_type": "code",
   "execution_count": null,
   "metadata": {
    "executionInfo": {
     "elapsed": 271,
     "status": "ok",
     "timestamp": 1733651242298,
     "user": {
      "displayName": "Monseej Purkayastha",
      "userId": "09437515445831882048"
     },
     "user_tz": -60
    },
    "id": "q5U2jQw31Ltf"
   },
   "outputs": [],
   "source": [
    "def train_lr_reg(X_train, X_test, y_train, y_test, reg=None, alpha=1.0):\n",
    "    \"\"\"\n",
    "    This is a wrapper function for training a linear regression model with optional regularization.\n",
    "\n",
    "    Parameters:\n",
    "    - X_train: Features for training\n",
    "    - X_test: Features for testing\n",
    "    - y_train: Target values for training\n",
    "    - y_test: Target values for testing\n",
    "    - reg: Regularization type ('ridge', 'lasso', 'elasticnet', or None for standard Linear Regression)\n",
    "    - alpha: Regularization strength (applicable for Ridge, Lasso, and ElasticNet)\n",
    "\n",
    "    Returns:\n",
    "    - model: Trained model\n",
    "    - mse: the mean-squared error at test time\n",
    "    - coeffs: List of coefficients from the trained model\n",
    "    \"\"\"\n",
    "    pass\n"
   ]
  },
  {
   "cell_type": "markdown",
   "metadata": {
    "id": "e9Z5wzlr5rNW"
   },
   "source": [
    "## d. Hyperparameter Search [0.5 points]\n",
    "\n",
    "Here, you will perform a grid search over a given range of values for the regularization parameter alpha to find the most optimal value for each type of regularization (Ridge, Lasso, and ElasticNet). The goal is to minimize the Mean Squared Error (MSE) for the model.\n",
    "\n",
    "For each regularization type (ridge, lasso, and elasticnet), evaluate the model performance over different values of alpha. For each model, you should report:\n",
    "\n",
    "  - The best value of alpha that minimizes the MSE.\n",
    "  - The corresponding MSE at the best alpha.\n",
    "\n",
    "You will then compare the MSE for each regularized model with the MSE obtained from the non-regularized linear regression model (i.e., without any regularization). This will help you assess the impact of regularization on the model performance."
   ]
  },
  {
   "cell_type": "code",
   "execution_count": null,
   "metadata": {
    "executionInfo": {
     "elapsed": 301,
     "status": "ok",
     "timestamp": 1733653372668,
     "user": {
      "displayName": "Monseej Purkayastha",
      "userId": "09437515445831882048"
     },
     "user_tz": -60
    },
    "id": "ltBdtbp-yfhN"
   },
   "outputs": [],
   "source": [
    "def alpha_search(X_train, X_test, y_train, y_test, alphas, reg_type):\n",
    "    \"\"\"\n",
    "    Evaluates a specified regularization model (Ridge, Lasso, or ElasticNet) over a range of alpha values.\n",
    "    The function returns the best alpha and MSE for the chosen regularization type.\n",
    "\n",
    "    Parameters:\n",
    "    - X_train: Feature matrix for training.\n",
    "    - X_test: Feature matrix for testing.\n",
    "    - y_train: Target values for training.\n",
    "    - y_test: Target values for testing.\n",
    "    - alphas: List of regularization strengths to evaluate.\n",
    "    - reg_type: The type of regularization ('ridge', 'lasso', or 'elasticnet').\n",
    "\n",
    "    Returns:\n",
    "    - result: A dictionary containing the best alpha and MSE for the selected regularization type.\n",
    "    \"\"\"\n",
    "    pass"
   ]
  },
  {
   "cell_type": "code",
   "execution_count": null,
   "metadata": {
    "colab": {
     "base_uri": "https://localhost:8080/"
    },
    "executionInfo": {
     "elapsed": 362,
     "status": "ok",
     "timestamp": 1733653649932,
     "user": {
      "displayName": "Monseej Purkayastha",
      "userId": "09437515445831882048"
     },
     "user_tz": -60
    },
    "id": "ojeHav4W1eSm",
    "outputId": "821adc56-cf3f-48f5-bb89-2ef74eccc80a"
   },
   "outputs": [],
   "source": [
    "## DONT'T CHANGE THIS CODE BLOCK\n",
    "alphas = [0.0001, 0.001, 0.01, 0.1, 1.0]\n",
    "\n",
    "linear_model, linear_mse, linear_coeffs = train_lr(X_train, X_test, y_train, y_test)\n",
    "best_ridge = alpha_search(X_train, X_test, y_train, y_test, alphas, reg_type='ridge')\n",
    "best_lasso = alpha_search(X_train, X_test, y_train, y_test, alphas, reg_type='lasso')\n",
    "best_elasticnet = alpha_search(X_train, X_test, y_train, y_test, alphas, reg_type='elasticnet')\n",
    "\n",
    "# Print the results in the desired format\n",
    "print(\"Linear Regression (No regularization):\")\n",
    "print(f\"  MSE: {linear_mse}\\n\")\n",
    "\n",
    "print(\"Ridge Regression:\")\n",
    "print(f\"  Best Alpha: {best_ridge['Best Alpha']}\")\n",
    "print(f\"  MSE: {best_ridge['MSE']}\\n\")\n",
    "\n",
    "print(\"Lasso Regression:\")\n",
    "print(f\"  Best Alpha: {best_lasso['Best Alpha']}\")\n",
    "print(f\"  MSE: {best_lasso['MSE']}\\n\")\n",
    "\n",
    "print(\"ElasticNet Regression:\")\n",
    "print(f\"  Best Alpha: {best_elasticnet['Best Alpha']}\")\n",
    "print(f\"  MSE: {best_elasticnet['MSE']}\\n\")"
   ]
  },
  {
   "cell_type": "markdown",
   "metadata": {
    "id": "vym9hgch0hjv"
   },
   "source": [
    "## e. Visualize regularization [0.5 points]\n",
    "\n",
    "Here, you will visualize how the regularization strength parameter $α$ influences both the magnitudes of the model coefficients and the model's mean squared error (MSE). The plot generated should display the following:\n",
    "- **Coefficient Magnitudes**: The effect of increasing αα on the magnitude of the coefficients for each feature.\n",
    "- **Mean Squared Error (MSE)**: The impact of different $α$ values on the model's performance, measured by MSE, same as `alpha_search()`.\n",
    "\n",
    "\n",
    "**Tasks to Implement**:\n",
    "\n",
    "- Train the specified regularized regression model (Ridge, Lasso, or ElasticNet) using the training data `(X_train, y_train)` for different $\\alpha$ values.\n",
    "- Create a plot with two y-axes:\n",
    "  - Left y-axis: Display the magnitude of the coefficients for each feature across different values of $\\alpha$.\n",
    "  - Right y-axis: Show the MSE for each value of $\\alpha$, indicating how the regularization strength affects model performance.\n",
    "\n",
    "- For each feature, plot its coefficient magnitude as a function of $\\alpha$ (**log scale**) on the left y-axis.\n",
    "\n",
    "- Plot the MSE for each $\\alpha$ on the right y-axis."
   ]
  },
  {
   "cell_type": "code",
   "execution_count": null,
   "metadata": {
    "executionInfo": {
     "elapsed": 317,
     "status": "ok",
     "timestamp": 1733654300330,
     "user": {
      "displayName": "Monseej Purkayastha",
      "userId": "09437515445831882048"
     },
     "user_tz": -60
    },
    "id": "O2ufqtWY7J6v"
   },
   "outputs": [],
   "source": [
    "def plot_regularization_effect(X_train, X_test, y_train, y_test, alphas, reg_type='lasso'):\n",
    "    \"\"\"\n",
    "    This function trains a regularized regression model over a range of alpha values,\n",
    "    then plots the coefficient magnitudes and MSE for each value of alpha on a dual-axis plot.\n",
    "\n",
    "    Parameters:\n",
    "    - X_train: Feature matrix for training.\n",
    "    - X_test: Feature matrix for testing.\n",
    "    - y_train: Target values for training.\n",
    "    - y_test: Target values for testing.\n",
    "    - alphas: List of regularization strengths (alphas) to evaluate.\n",
    "    - reg_type: Type of regularization ('ridge', 'lasso', or 'elasticnet').\n",
    "\n",
    "    Returns:\n",
    "    - None: This function generates and shows a plot.\n",
    "    \"\"\"\n",
    "    pass"
   ]
  },
  {
   "cell_type": "code",
   "execution_count": null,
   "metadata": {
    "colab": {
     "base_uri": "https://localhost:8080/",
     "height": 487
    },
    "executionInfo": {
     "elapsed": 2061,
     "status": "ok",
     "timestamp": 1733654323710,
     "user": {
      "displayName": "Monseej Purkayastha",
      "userId": "09437515445831882048"
     },
     "user_tz": -60
    },
    "id": "di2576AL2YXJ",
    "outputId": "9457ece0-d8b5-4daa-a39a-8672f8d86b2e"
   },
   "outputs": [],
   "source": [
    "plot_regularization_effect(X_train, X_test, y_train, y_test, alphas, reg_type='ridge')"
   ]
  },
  {
   "cell_type": "code",
   "execution_count": null,
   "metadata": {
    "colab": {
     "base_uri": "https://localhost:8080/",
     "height": 578
    },
    "executionInfo": {
     "elapsed": 1913,
     "status": "ok",
     "timestamp": 1733654341143,
     "user": {
      "displayName": "Monseej Purkayastha",
      "userId": "09437515445831882048"
     },
     "user_tz": -60
    },
    "id": "0QFo5kfZ2b_7",
    "outputId": "7f8c857c-7ce4-4b58-85bd-b56584b9c1f2"
   },
   "outputs": [],
   "source": [
    "plot_regularization_effect(X_train, X_test, y_train, y_test, alphas, reg_type='lasso')"
   ]
  },
  {
   "cell_type": "code",
   "execution_count": null,
   "metadata": {
    "colab": {
     "base_uri": "https://localhost:8080/",
     "height": 578
    },
    "executionInfo": {
     "elapsed": 2196,
     "status": "ok",
     "timestamp": 1733654356533,
     "user": {
      "displayName": "Monseej Purkayastha",
      "userId": "09437515445831882048"
     },
     "user_tz": -60
    },
    "id": "O0F89NTh2fhJ",
    "outputId": "512e71ad-881e-46e0-b4c7-2bf0c47a9b44"
   },
   "outputs": [],
   "source": [
    "plot_regularization_effect(X_train, X_test, y_train, y_test, alphas, reg_type='elasticnet')"
   ]
  },
  {
   "cell_type": "markdown",
   "metadata": {
    "id": "mEfzWnSr8pfK"
   },
   "source": [
    "### Answer the following questions based on your plots: [0.25 + 0.25 points]\n",
    "\n",
    "Q1: What differences do you observe in the coefficients between lasso ($L_{1}$) and ridge ($L_{2}$) regularization?<br>\n",
    "Q2: ElasticNet is a combination of both $L_{1}$ and $L_{2}$ regularization, what is its effect on the model coefficients?"
   ]
  },
  {
   "cell_type": "code",
   "execution_count": null,
   "metadata": {
    "id": "QyJ5gj9_33yX"
   },
   "outputs": [],
   "source": []
  }
 ],
 "metadata": {
  "colab": {
   "authorship_tag": "ABX9TyNJ1OGJC+gRott69z4s7iHt",
   "provenance": []
  },
  "kernelspec": {
   "display_name": "Python 3 (ipykernel)",
   "language": "python",
   "name": "python3"
  },
  "language_info": {
   "codemirror_mode": {
    "name": "ipython",
    "version": 3
   },
   "file_extension": ".py",
   "mimetype": "text/x-python",
   "name": "python",
   "nbconvert_exporter": "python",
   "pygments_lexer": "ipython3",
   "version": "3.12.7"
  }
 },
 "nbformat": 4,
 "nbformat_minor": 4
}
