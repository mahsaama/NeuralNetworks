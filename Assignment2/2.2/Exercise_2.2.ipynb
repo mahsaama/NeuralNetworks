{
 "cells": [
  {
   "cell_type": "markdown",
   "id": "3a6b57b8",
   "metadata": {},
   "source": [
    "Group Members:\n",
    "\n",
    "Name: `Sayeh Jarollahi` \\\n",
    "Student ID (matriculation number): `7073520` \\\n",
    "Email: `saja00006@stud.uni-saarland.de` \n",
    "\n",
    "Name: `Mahsa Amani` \\\n",
    "Student ID (matriculation number): `7064006` \\\n",
    "Email: `maam00002@stud.uni-saarland.de`"
   ]
  },
  {
   "cell_type": "code",
   "execution_count": null,
   "id": "a1ee9e1a-17d8-4376-a821-0853f26bb20c",
   "metadata": {},
   "outputs": [],
   "source": [
    "import json\n",
    "import torch\n",
    "from torch.utils.data import Dataset, DataLoader, random_split\n",
    "from sklearn.preprocessing import OneHotEncoder\n",
    "import pandas as pd"
   ]
  },
  {
   "cell_type": "markdown",
   "id": "6d0f87f5",
   "metadata": {},
   "source": [
    "# SMS Spam Data"
   ]
  },
  {
   "cell_type": "code",
   "execution_count": 15,
   "id": "c6180270-7ef2-4f8b-9979-d207ce098a29",
   "metadata": {},
   "outputs": [
    {
     "name": "stdout",
     "output_type": "stream",
     "text": [
      "Numeber of sequences: 5574\n",
      "Numeber of labels: 5574\n"
     ]
    }
   ],
   "source": [
    "# data loading\n",
    "with open(\"Dataset1/data.json\", \"r\") as f:\n",
    "    data_1 = json.load(f)\n",
    "\n",
    "tokenized_sequences = [data[\"tokens\"] for data in data_1]  \n",
    "labels = [data[\"label\"] for data in data_1]   \n",
    "print(f\"Numeber of sequences: {len(tokenized_sequences)}\")\n",
    "print(f\"Numeber of labels: {len(labels)}\")\n"
   ]
  },
  {
   "cell_type": "code",
   "execution_count": 26,
   "id": "88549e9b",
   "metadata": {},
   "outputs": [],
   "source": [
    "# defining dataset class\n",
    "class TokenDataset(Dataset):\n",
    "    def __init__(self, tokenized_sequences, labels):\n",
    "        self.tokenized_sequences = [torch.tensor(seq, dtype=torch.float32) for seq in tokenized_sequences]\n",
    "        self.labels = torch.tensor(labels)\n",
    "        assert len(self.tokenized_sequences) == len(self.labels)\n",
    "        self.max_length = max(len(sequence) for sequence in tokenized_sequences)\n",
    "\n",
    "    def __len__(self):\n",
    "        return len(self.tokenized_sequences)\n",
    "\n",
    "    def __getitem__(self, index):\n",
    "        sequence = self.tokenized_sequences[index] \n",
    "        if len(sequence) < self.max_length: # check if padding is required\n",
    "            # append 0 to the end of the shorter sequences\n",
    "            sequence = torch.cat([sequence, torch.zeros(self.max_length - len(sequence), dtype=torch.long)]) \n",
    "        return sequence, self.labels[index]"
   ]
  },
  {
   "cell_type": "code",
   "execution_count": 27,
   "id": "ad227bf3-112d-403b-88a7-1a0bbdfece7f",
   "metadata": {},
   "outputs": [],
   "source": [
    "# defining dataloader class\n",
    "class TokenDataLoader(DataLoader):\n",
    "    def __init__(self, dataset, batch_size=1, shuffle=False):\n",
    "        super().__init__(dataset=dataset, batch_size=batch_size, shuffle=shuffle)\n",
    "\n",
    "    def __iter__(self):\n",
    "        return super().__iter__()"
   ]
  },
  {
   "cell_type": "code",
   "execution_count": null,
   "id": "33765577-f46c-410a-b04f-3ecbf983e82a",
   "metadata": {},
   "outputs": [],
   "source": [
    "dataset = TokenDataset(tokenized_sequences, labels)\n",
    "\n",
    "# Separate the dataset in train and test datasets at random\n",
    "generator1 = torch.Generator().manual_seed(42)\n",
    "train_dataset, test_dataset = random_split(dataset, [0.8, 0.2], generator=generator1)\n",
    "\n",
    "# Dataloader for the training part of the dataset only\n",
    "train_loader = TokenDataLoader(train_dataset, batch_size=6) "
   ]
  },
  {
   "cell_type": "code",
   "execution_count": 33,
   "id": "341c891d",
   "metadata": {},
   "outputs": [
    {
     "name": "stdout",
     "output_type": "stream",
     "text": [
      "tensor([[ 101., 2059., 2054.,  ...,    0.,    0.,    0.],\n",
      "        [ 101., 2026., 2905.,  ...,    0.,    0.,    0.],\n",
      "        [ 101., 2035., 2122.,  ...,    0.,    0.,    0.],\n",
      "        [ 101., 8840., 2140.,  ...,    0.,    0.,    0.],\n",
      "        [ 101., 2024., 2017.,  ...,    0.,    0.,    0.],\n",
      "        [ 101., 2089., 1045.,  ...,    0.,    0.,    0.]])\n",
      "tensor([0, 0, 0, 0, 0, 0])\n"
     ]
    }
   ],
   "source": [
    "X, y = next(iter(train_loader))\n",
    "print(X)\n",
    "print(y)"
   ]
  },
  {
   "cell_type": "markdown",
   "id": "a46ef4d6",
   "metadata": {},
   "source": [
    "Test correctness here (do not change the cell below)"
   ]
  },
  {
   "cell_type": "code",
   "execution_count": 5,
   "id": "8386581e-416c-435b-84f9-f4ccf8a5c00f",
   "metadata": {},
   "outputs": [
    {
     "name": "stdout",
     "output_type": "stream",
     "text": [
      "tensor([[  101.,  4604.,  2033.,  ...,     0.,     0.,     0.],\n",
      "        [  101.,  2031.,  2017.,  ...,     0.,     0.,     0.],\n",
      "        [  101.,  2129.,  1005.,  ...,     0.,     0.,     0.],\n",
      "        [  101.,  2053.,  4830.,  ...,     0.,     0.,     0.],\n",
      "        [  101.,  4638., 14166.,  ...,     0.,     0.,     0.],\n",
      "        [  101.,  2009.,  1005.,  ...,     0.,     0.,     0.]])\n",
      "tensor([0, 0, 0, 0, 0, 0])\n"
     ]
    }
   ],
   "source": [
    "X, y = next(iter(train_loader))\n",
    "print(X)\n",
    "print(y)"
   ]
  },
  {
   "cell_type": "markdown",
   "id": "aecdc0b7",
   "metadata": {},
   "source": [
    "# Disease Data"
   ]
  },
  {
   "cell_type": "code",
   "execution_count": 20,
   "id": "5c9b62b2",
   "metadata": {},
   "outputs": [
    {
     "data": {
      "text/html": [
       "<div>\n",
       "<style scoped>\n",
       "    .dataframe tbody tr th:only-of-type {\n",
       "        vertical-align: middle;\n",
       "    }\n",
       "\n",
       "    .dataframe tbody tr th {\n",
       "        vertical-align: top;\n",
       "    }\n",
       "\n",
       "    .dataframe thead th {\n",
       "        text-align: right;\n",
       "    }\n",
       "</style>\n",
       "<table border=\"1\" class=\"dataframe\">\n",
       "  <thead>\n",
       "    <tr style=\"text-align: right;\">\n",
       "      <th></th>\n",
       "      <th>sudden_fever</th>\n",
       "      <th>headache</th>\n",
       "      <th>mouth_bleed</th>\n",
       "      <th>nose_bleed</th>\n",
       "      <th>muscle_pain</th>\n",
       "      <th>joint_pain</th>\n",
       "      <th>vomiting</th>\n",
       "      <th>rash</th>\n",
       "      <th>diarrhea</th>\n",
       "      <th>hypotension</th>\n",
       "      <th>...</th>\n",
       "      <th>breathing_restriction</th>\n",
       "      <th>toe_inflammation</th>\n",
       "      <th>finger_inflammation</th>\n",
       "      <th>lips_irritation</th>\n",
       "      <th>itchiness</th>\n",
       "      <th>ulcers</th>\n",
       "      <th>toenail_loss</th>\n",
       "      <th>speech_problem</th>\n",
       "      <th>bullseye_rash</th>\n",
       "      <th>prognosis</th>\n",
       "    </tr>\n",
       "    <tr>\n",
       "      <th>id</th>\n",
       "      <th></th>\n",
       "      <th></th>\n",
       "      <th></th>\n",
       "      <th></th>\n",
       "      <th></th>\n",
       "      <th></th>\n",
       "      <th></th>\n",
       "      <th></th>\n",
       "      <th></th>\n",
       "      <th></th>\n",
       "      <th></th>\n",
       "      <th></th>\n",
       "      <th></th>\n",
       "      <th></th>\n",
       "      <th></th>\n",
       "      <th></th>\n",
       "      <th></th>\n",
       "      <th></th>\n",
       "      <th></th>\n",
       "      <th></th>\n",
       "      <th></th>\n",
       "    </tr>\n",
       "  </thead>\n",
       "  <tbody>\n",
       "    <tr>\n",
       "      <th>0</th>\n",
       "      <td>1.0</td>\n",
       "      <td>1.0</td>\n",
       "      <td>0.0</td>\n",
       "      <td>1.0</td>\n",
       "      <td>1.0</td>\n",
       "      <td>1.0</td>\n",
       "      <td>1.0</td>\n",
       "      <td>0.0</td>\n",
       "      <td>1.0</td>\n",
       "      <td>1.0</td>\n",
       "      <td>...</td>\n",
       "      <td>0.0</td>\n",
       "      <td>0.0</td>\n",
       "      <td>0.0</td>\n",
       "      <td>0.0</td>\n",
       "      <td>0.0</td>\n",
       "      <td>0.0</td>\n",
       "      <td>0.0</td>\n",
       "      <td>0.0</td>\n",
       "      <td>0.0</td>\n",
       "      <td>Lyme_disease</td>\n",
       "    </tr>\n",
       "    <tr>\n",
       "      <th>1</th>\n",
       "      <td>0.0</td>\n",
       "      <td>0.0</td>\n",
       "      <td>0.0</td>\n",
       "      <td>0.0</td>\n",
       "      <td>0.0</td>\n",
       "      <td>0.0</td>\n",
       "      <td>1.0</td>\n",
       "      <td>0.0</td>\n",
       "      <td>1.0</td>\n",
       "      <td>0.0</td>\n",
       "      <td>...</td>\n",
       "      <td>0.0</td>\n",
       "      <td>0.0</td>\n",
       "      <td>0.0</td>\n",
       "      <td>0.0</td>\n",
       "      <td>0.0</td>\n",
       "      <td>0.0</td>\n",
       "      <td>0.0</td>\n",
       "      <td>0.0</td>\n",
       "      <td>0.0</td>\n",
       "      <td>Tungiasis</td>\n",
       "    </tr>\n",
       "    <tr>\n",
       "      <th>2</th>\n",
       "      <td>0.0</td>\n",
       "      <td>1.0</td>\n",
       "      <td>1.0</td>\n",
       "      <td>1.0</td>\n",
       "      <td>0.0</td>\n",
       "      <td>1.0</td>\n",
       "      <td>1.0</td>\n",
       "      <td>1.0</td>\n",
       "      <td>1.0</td>\n",
       "      <td>1.0</td>\n",
       "      <td>...</td>\n",
       "      <td>1.0</td>\n",
       "      <td>1.0</td>\n",
       "      <td>1.0</td>\n",
       "      <td>1.0</td>\n",
       "      <td>1.0</td>\n",
       "      <td>0.0</td>\n",
       "      <td>1.0</td>\n",
       "      <td>1.0</td>\n",
       "      <td>1.0</td>\n",
       "      <td>Lyme_disease</td>\n",
       "    </tr>\n",
       "    <tr>\n",
       "      <th>3</th>\n",
       "      <td>0.0</td>\n",
       "      <td>0.0</td>\n",
       "      <td>1.0</td>\n",
       "      <td>1.0</td>\n",
       "      <td>1.0</td>\n",
       "      <td>1.0</td>\n",
       "      <td>0.0</td>\n",
       "      <td>1.0</td>\n",
       "      <td>0.0</td>\n",
       "      <td>1.0</td>\n",
       "      <td>...</td>\n",
       "      <td>0.0</td>\n",
       "      <td>0.0</td>\n",
       "      <td>0.0</td>\n",
       "      <td>0.0</td>\n",
       "      <td>0.0</td>\n",
       "      <td>0.0</td>\n",
       "      <td>0.0</td>\n",
       "      <td>0.0</td>\n",
       "      <td>0.0</td>\n",
       "      <td>Zika</td>\n",
       "    </tr>\n",
       "    <tr>\n",
       "      <th>4</th>\n",
       "      <td>0.0</td>\n",
       "      <td>0.0</td>\n",
       "      <td>0.0</td>\n",
       "      <td>0.0</td>\n",
       "      <td>0.0</td>\n",
       "      <td>0.0</td>\n",
       "      <td>0.0</td>\n",
       "      <td>0.0</td>\n",
       "      <td>1.0</td>\n",
       "      <td>0.0</td>\n",
       "      <td>...</td>\n",
       "      <td>0.0</td>\n",
       "      <td>1.0</td>\n",
       "      <td>0.0</td>\n",
       "      <td>0.0</td>\n",
       "      <td>1.0</td>\n",
       "      <td>1.0</td>\n",
       "      <td>1.0</td>\n",
       "      <td>0.0</td>\n",
       "      <td>0.0</td>\n",
       "      <td>Rift_Valley_fever</td>\n",
       "    </tr>\n",
       "  </tbody>\n",
       "</table>\n",
       "<p>5 rows × 65 columns</p>\n",
       "</div>"
      ],
      "text/plain": [
       "    sudden_fever  headache  mouth_bleed  nose_bleed  muscle_pain  joint_pain  \\\n",
       "id                                                                             \n",
       "0            1.0       1.0          0.0         1.0          1.0         1.0   \n",
       "1            0.0       0.0          0.0         0.0          0.0         0.0   \n",
       "2            0.0       1.0          1.0         1.0          0.0         1.0   \n",
       "3            0.0       0.0          1.0         1.0          1.0         1.0   \n",
       "4            0.0       0.0          0.0         0.0          0.0         0.0   \n",
       "\n",
       "    vomiting  rash  diarrhea  hypotension  ...  breathing_restriction  \\\n",
       "id                                         ...                          \n",
       "0        1.0   0.0       1.0          1.0  ...                    0.0   \n",
       "1        1.0   0.0       1.0          0.0  ...                    0.0   \n",
       "2        1.0   1.0       1.0          1.0  ...                    1.0   \n",
       "3        0.0   1.0       0.0          1.0  ...                    0.0   \n",
       "4        0.0   0.0       1.0          0.0  ...                    0.0   \n",
       "\n",
       "    toe_inflammation  finger_inflammation  lips_irritation  itchiness  ulcers  \\\n",
       "id                                                                              \n",
       "0                0.0                  0.0              0.0        0.0     0.0   \n",
       "1                0.0                  0.0              0.0        0.0     0.0   \n",
       "2                1.0                  1.0              1.0        1.0     0.0   \n",
       "3                0.0                  0.0              0.0        0.0     0.0   \n",
       "4                1.0                  0.0              0.0        1.0     1.0   \n",
       "\n",
       "    toenail_loss  speech_problem  bullseye_rash          prognosis  \n",
       "id                                                                  \n",
       "0            0.0             0.0            0.0       Lyme_disease  \n",
       "1            0.0             0.0            0.0          Tungiasis  \n",
       "2            1.0             1.0            1.0       Lyme_disease  \n",
       "3            0.0             0.0            0.0               Zika  \n",
       "4            1.0             0.0            0.0  Rift_Valley_fever  \n",
       "\n",
       "[5 rows x 65 columns]"
      ]
     },
     "execution_count": 20,
     "metadata": {},
     "output_type": "execute_result"
    }
   ],
   "source": [
    "# loading data\n",
    "df = pd.read_csv(\"Dataset2/data.csv\", index_col=0)\n",
    "df.head()"
   ]
  },
  {
   "cell_type": "code",
   "execution_count": 47,
   "id": "47931f8c",
   "metadata": {},
   "outputs": [],
   "source": [
    "# defining dataset class\n",
    "class CSVDataset(Dataset):\n",
    "    def __init__(self, data_frame):\n",
    "        self.features = torch.tensor(data_frame.iloc[:, :-1].values, dtype=torch.int32)\n",
    "        # One-hot encode the prognosis label\n",
    "        encoder = OneHotEncoder(sparse_output=False)\n",
    "        encoded_labels = encoder.fit_transform(data_frame.iloc[:, -1].values.reshape(-1, 1))\n",
    "        self.labels = torch.tensor(encoded_labels, dtype=torch.int32)\n",
    "\n",
    "    def __len__(self):\n",
    "        return len(self.features)\n",
    "\n",
    "    def __getitem__(self, index):\n",
    "        return self.features[index], self.labels[index]"
   ]
  },
  {
   "cell_type": "code",
   "execution_count": 48,
   "id": "19278914-52c8-4484-8bf7-fd4d9bdc3ad0",
   "metadata": {},
   "outputs": [],
   "source": [
    "# defining dataloader class\n",
    "class CSVDataLoader(DataLoader):\n",
    "    def __init__(self, dataset, batch_size=1, shuffle=False):\n",
    "        super().__init__(dataset=dataset, batch_size=batch_size, shuffle=shuffle)\n",
    "\n",
    "    def __iter__(self):\n",
    "        return super().__iter__()"
   ]
  },
  {
   "cell_type": "code",
   "execution_count": null,
   "id": "4c485899-0fe1-4cba-ae1b-a3c68c8f65f2",
   "metadata": {},
   "outputs": [],
   "source": [
    "dataset = CSVDataset(df)\n",
    "\n",
    "# Separate the dataset in train and test datasets at random\n",
    "generator1 = torch.Generator().manual_seed(42)\n",
    "train_dataset, test_dataset = random_split(dataset, [0.8, 0.2], generator=generator1)\n",
    "\n",
    "# Dataloader for the training part of the dataset only\n",
    "train_loader = CSVDataLoader(train_dataset, batch_size=6) "
   ]
  },
  {
   "cell_type": "code",
   "execution_count": 50,
   "id": "a205502f",
   "metadata": {},
   "outputs": [
    {
     "name": "stdout",
     "output_type": "stream",
     "text": [
      "torch.Size([6, 64])\n",
      "torch.Size([6, 11])\n"
     ]
    }
   ],
   "source": [
    "X, y = next(iter(train_loader))\n",
    "print(X.shape)\n",
    "print(y.shape)"
   ]
  },
  {
   "cell_type": "markdown",
   "id": "f71947ef",
   "metadata": {},
   "source": [
    "Test correctness here (do not change the cell below)"
   ]
  },
  {
   "cell_type": "code",
   "execution_count": 8,
   "id": "82343dbf-a775-472a-a263-282589271f9e",
   "metadata": {},
   "outputs": [
    {
     "name": "stdout",
     "output_type": "stream",
     "text": [
      "torch.Size([6, 64])\n",
      "torch.Size([6, 11])\n"
     ]
    }
   ],
   "source": [
    "X, y = next(iter(train_loader))\n",
    "print(X.shape)\n",
    "print(y.shape)"
   ]
  }
 ],
 "metadata": {
  "kernelspec": {
   "display_name": "Python 3",
   "language": "python",
   "name": "python3"
  },
  "language_info": {
   "codemirror_mode": {
    "name": "ipython",
    "version": 3
   },
   "file_extension": ".py",
   "mimetype": "text/x-python",
   "name": "python",
   "nbconvert_exporter": "python",
   "pygments_lexer": "ipython3",
   "version": "3.9.6"
  }
 },
 "nbformat": 4,
 "nbformat_minor": 5
}
