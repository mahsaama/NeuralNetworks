{
 "cells": [
  {
   "cell_type": "markdown",
   "metadata": {},
   "source": [
    "# NNTI Assignment 6\n",
    "\n",
    "Name 1: Sayeh Jarollahi<br>\n",
    "Student id 1: 7073520<br>\n",
    "Email 1: saja00006@stud.uni-saarland.de<br>\n",
    "\n",
    "Name 2: Mahsa Amani<br>\n",
    "Student id 2: 7064006 <br>\n",
    "Email 2: maam00002@stud.uni-saarland.de <br>\n",
    "\n",
    "Name 3: <br>\n",
    "Student id 3:  <br>\n",
    "Email 3: <br>\n",
    "\n",
    "**Instructions:**\n",
    "- Read each question carefully. <br/>\n",
    "- Make sure you appropriately comment your code wherever required. Your final submission should contain the completed Notebook. <br>\n",
    "- Upload the zipped folder on CMS. Please follow the naming convention of **Name1_id1_Name2_id2_Name3_id3.zip**. Only one member of the group should make the submisssion."
   ]
  },
  {
   "cell_type": "markdown",
   "metadata": {},
   "source": [
    "## Batch Normalization\n",
    "In this exercise you will again construct a feed forward neural network, however you will use batch normalization during training. Training deep neural networks can be challenging due to the change in the distribution of inputs to layers deep in the network as a result of the updates of the weights in the previous layers. This causes the learning to chase a \"moving target\", which slows down the learning process. Batch normalization is a technique that aims to address this problem by normalizing layer inputs. This stabilizes the learning process and can greatly decrease training time. If you are interested you can read the paper introducing batch normalization [here](https://arxiv.org/abs/1502.03167).\n",
    "\n",
    "You will be working with the [FashionMNIST](https://pytorch.org/vision/stable/generated/torchvision.datasets.FashionMNIST.html) dataset by Zalando, which consists of $28\\times 28$ black and white images and has 10 classes just like the [MNIST](https://pytorch.org/vision/main/generated/torchvision.datasets.MNIST.html) dataset. But instead of numbers the classes are various items of clothing such as shoes, t-shirts, dresses, etc."
   ]
  },
  {
   "cell_type": "markdown",
   "metadata": {},
   "source": [
    "### 1. Baseline Network (1 point)\n",
    "You are provided with a dataloader for the train and test sets, each with a batch size of 64. Your task is to construct a feed forward neural network with 3 hidden linear layers with a ReLU after each of the first 2 layers. The first layer should have a hidden size of 64 and the second a hidden size of 32. This is a multi-class classification problem so you will need to use cross entropy loss (provided by [nn.CrossEntropyLoss](https://pytorch.org/docs/stable/generated/torch.nn.CrossEntropyLoss.html)). Use a stochastic gradient descent (provided by [torch.optim.SGD](https://pytorch.org/docs/stable/generated/torch.optim.SGD.html)) with a learning rate of 0.001 as the optimizer. Train your network on the training data for 5 epochs and report accuracy on the **test** set after each epoch, for this refer to [PyTorch Training Loop](https://pytorch.org/tutorials/beginner/introyt/trainingyt.html#the-training-loop) and [Per-Epoch Activity](https://pytorch.org/tutorials/beginner/introyt/trainingyt.html#per-epoch-activity). Make sure to save the accuracies.\n",
    "(hint: the data comes in the format of $28 \\times 28$ tensors, so you will need flatten it to train your network)"
   ]
  },
  {
   "cell_type": "code",
   "execution_count": 1,
   "metadata": {},
   "outputs": [
    {
     "name": "stderr",
     "output_type": "stream",
     "text": [
      "/Users/sayeh/Library/Python/3.9/lib/python/site-packages/urllib3/__init__.py:34: NotOpenSSLWarning: urllib3 v2.0 only supports OpenSSL 1.1.1+, currently the 'ssl' module is compiled with 'LibreSSL 2.8.3'. See: https://github.com/urllib3/urllib3/issues/3020\n",
      "  warnings.warn(\n"
     ]
    }
   ],
   "source": [
    "import torch\n",
    "import torchvision\n",
    "import torch.nn as nn\n",
    "from torchvision import transforms\n",
    "import matplotlib.pyplot as plt"
   ]
  },
  {
   "cell_type": "code",
   "execution_count": 2,
   "metadata": {},
   "outputs": [
    {
     "name": "stdout",
     "output_type": "stream",
     "text": [
      "Downloading http://fashion-mnist.s3-website.eu-central-1.amazonaws.com/train-images-idx3-ubyte.gz\n",
      "Downloading http://fashion-mnist.s3-website.eu-central-1.amazonaws.com/train-images-idx3-ubyte.gz to data/FashionMNIST/raw/train-images-idx3-ubyte.gz\n"
     ]
    },
    {
     "name": "stderr",
     "output_type": "stream",
     "text": [
      "100%|██████████| 26421880/26421880 [00:02<00:00, 12632062.14it/s]\n"
     ]
    },
    {
     "name": "stdout",
     "output_type": "stream",
     "text": [
      "Extracting data/FashionMNIST/raw/train-images-idx3-ubyte.gz to data/FashionMNIST/raw\n",
      "\n",
      "Downloading http://fashion-mnist.s3-website.eu-central-1.amazonaws.com/train-labels-idx1-ubyte.gz\n",
      "Downloading http://fashion-mnist.s3-website.eu-central-1.amazonaws.com/train-labels-idx1-ubyte.gz to data/FashionMNIST/raw/train-labels-idx1-ubyte.gz\n"
     ]
    },
    {
     "name": "stderr",
     "output_type": "stream",
     "text": [
      "100%|██████████| 29515/29515 [00:00<00:00, 1158954.49it/s]\n"
     ]
    },
    {
     "name": "stdout",
     "output_type": "stream",
     "text": [
      "Extracting data/FashionMNIST/raw/train-labels-idx1-ubyte.gz to data/FashionMNIST/raw\n",
      "\n",
      "Downloading http://fashion-mnist.s3-website.eu-central-1.amazonaws.com/t10k-images-idx3-ubyte.gz\n",
      "Downloading http://fashion-mnist.s3-website.eu-central-1.amazonaws.com/t10k-images-idx3-ubyte.gz to data/FashionMNIST/raw/t10k-images-idx3-ubyte.gz\n"
     ]
    },
    {
     "name": "stderr",
     "output_type": "stream",
     "text": [
      "100%|██████████| 4422102/4422102 [00:00<00:00, 10515494.96it/s]\n"
     ]
    },
    {
     "name": "stdout",
     "output_type": "stream",
     "text": [
      "Extracting data/FashionMNIST/raw/t10k-images-idx3-ubyte.gz to data/FashionMNIST/raw\n",
      "\n",
      "Downloading http://fashion-mnist.s3-website.eu-central-1.amazonaws.com/t10k-labels-idx1-ubyte.gz\n",
      "Downloading http://fashion-mnist.s3-website.eu-central-1.amazonaws.com/t10k-labels-idx1-ubyte.gz to data/FashionMNIST/raw/t10k-labels-idx1-ubyte.gz\n"
     ]
    },
    {
     "name": "stderr",
     "output_type": "stream",
     "text": [
      "100%|██████████| 5148/5148 [00:00<00:00, 14932418.39it/s]"
     ]
    },
    {
     "name": "stdout",
     "output_type": "stream",
     "text": [
      "Extracting data/FashionMNIST/raw/t10k-labels-idx1-ubyte.gz to data/FashionMNIST/raw\n",
      "\n"
     ]
    },
    {
     "name": "stderr",
     "output_type": "stream",
     "text": [
      "\n"
     ]
    }
   ],
   "source": [
    "# load train and test set\n",
    "fashion_trainset = torchvision.datasets.FashionMNIST('data/', train=True, download=True, transform=transforms.ToTensor())\n",
    "fashion_testset = torchvision.datasets.FashionMNIST('data/', train=False, download=True, transform=transforms.ToTensor())"
   ]
  },
  {
   "cell_type": "code",
   "execution_count": 3,
   "metadata": {},
   "outputs": [],
   "source": [
    "# get train and test loader\n",
    "fashion_train_loader = torch.utils.data.DataLoader(dataset=fashion_trainset, batch_size=64, shuffle=True)\n",
    "fashion_test_loader = torch.utils.data.DataLoader(dataset=fashion_testset, batch_size=64, shuffle=False)"
   ]
  },
  {
   "cell_type": "code",
   "execution_count": 13,
   "metadata": {},
   "outputs": [],
   "source": [
    "import torch.optim as optim\n",
    "\n",
    "class FashionNetwork(nn.Module):\n",
    "\n",
    "    def __init__(self):\n",
    "        # TODO\n",
    "        # Fill in the layers provided by PyTorch that correspond to the description.\n",
    "        # Define the loss function\n",
    "        # Define the optimizer\n",
    "        super(FashionNetwork, self).__init__()\n",
    "        self.model = nn.Sequential(\n",
    "            nn.Flatten(), \n",
    "            nn.Linear(28*28, 64), \n",
    "            nn.ReLU(), \n",
    "            nn.Linear(64, 32), \n",
    "            nn.ReLU(), \n",
    "            nn.Linear(32, 10)\n",
    "        )\n",
    "        self.loss = nn.CrossEntropyLoss()\n",
    "        self.optimizer = optim.SGD(self.parameters(), lr=0.001)\n",
    "\n",
    "    def forward(self, x):\n",
    "        return self.model(x)\n",
    "\n",
    "    def optimize(self, fashion_train_loader, fashion_test_loader):\n",
    "        accuracies = []\n",
    "        for epoch in range(5):\n",
    "            self.train()\n",
    "            for batch in fashion_train_loader:\n",
    "                inputs, labels = batch\n",
    "                outputs = self(inputs)\n",
    "                loss_value = self.loss(outputs, labels)\n",
    "                self.optimizer.zero_grad()\n",
    "\n",
    "                loss_value.backward()\n",
    "                self.optimizer.step()\n",
    "            accuracy = self.test(fashion_test_loader)\n",
    "            accuracies.append(accuracy)   \n",
    "            print(f\"Epoch {epoch + 1}/{5}, Test Accuracy: {accuracy:.2f}%\")\n",
    "        return accuracies\n",
    "\n",
    "\n",
    "    def test(self, fashion_test_loader):\n",
    "        self.eval()  # Set the model to evaluation mode\n",
    "        correct = 0\n",
    "        total = 0\n",
    "        \n",
    "        with torch.no_grad():  # No gradients needed during testing\n",
    "            for batch in fashion_test_loader:\n",
    "                inputs, labels = batch\n",
    "                outputs = self(inputs)\n",
    "                _, predicted = torch.max(outputs, 1)\n",
    "                total += labels.size(0)\n",
    "                correct += (predicted == labels).sum().item()        \n",
    "        accuracy = 100 * correct / total\n",
    "        return accuracy"
   ]
  },
  {
   "cell_type": "code",
   "execution_count": 15,
   "metadata": {},
   "outputs": [
    {
     "name": "stdout",
     "output_type": "stream",
     "text": [
      "Epoch 1/5, Test Accuracy: 15.85%\n",
      "Epoch 2/5, Test Accuracy: 29.94%\n",
      "Epoch 3/5, Test Accuracy: 31.61%\n",
      "Epoch 4/5, Test Accuracy: 41.99%\n",
      "Epoch 5/5, Test Accuracy: 61.71%\n"
     ]
    }
   ],
   "source": [
    "fashion_network = FashionNetwork()\n",
    "basic_accuracies = fashion_network.optimize(fashion_train_loader, fashion_test_loader)"
   ]
  },
  {
   "cell_type": "markdown",
   "metadata": {},
   "source": [
    "### 2. Network with Batch Normalization (0.5 points)\n",
    "Construct another network with the same parameters as 2.1 but this time include a batch normalization layer (use [nn.BatchNorm1d](https://pytorch.org/docs/stable/generated/torch.nn.BatchNorm1d.html)). Where to place this layer is up to you, but you can reference the lecture slides for inspiration. Again train your network for 5 epochs and report **test** accuracy after each epoch."
   ]
  },
  {
   "cell_type": "code",
   "execution_count": 19,
   "metadata": {},
   "outputs": [],
   "source": [
    "class FashionNetworkBatchNorm(nn.Module):\n",
    "\n",
    "    def __init__(self):\n",
    "\n",
    "        super(FashionNetworkBatchNorm, self).__init__()\n",
    "        self.model = nn.Sequential(\n",
    "            nn.Flatten(), \n",
    "            nn.Linear(28*28, 64), \n",
    "            nn.ReLU(), \n",
    "            nn.Linear(64, 32), \n",
    "            nn.BatchNorm1d(32),\n",
    "            nn.ReLU(), \n",
    "            nn.Linear(32, 10)\n",
    "        )\n",
    "        self.loss = nn.CrossEntropyLoss()\n",
    "        self.optimizer = optim.SGD(self.parameters(), lr=0.001)\n",
    "\n",
    "    \n",
    "    def forward(self, x):\n",
    "        return self.model(x)\n",
    "\n",
    "    def optimize(self, fashion_train_loader, fashion_test_loader):\n",
    "        accuracies = []\n",
    "        for epoch in range(5):\n",
    "            self.train()\n",
    "            for batch in fashion_train_loader:\n",
    "                inputs, labels = batch\n",
    "                outputs = self(inputs)\n",
    "                loss_value = self.loss(outputs, labels)\n",
    "                self.optimizer.zero_grad()\n",
    "\n",
    "                loss_value.backward()\n",
    "                self.optimizer.step()\n",
    "            accuracy = self.test(fashion_test_loader)\n",
    "            accuracies.append(accuracy)   \n",
    "            print(f\"Epoch {epoch + 1}/{5}, Test Accuracy: {accuracy:.2f}%\")\n",
    "        return accuracies\n",
    "\n",
    "\n",
    "    def test(self, fashion_test_loader):\n",
    "        self.eval()  # Set the model to evaluation mode\n",
    "        correct = 0\n",
    "        total = 0\n",
    "        \n",
    "        with torch.no_grad():  # No gradients needed during testing\n",
    "            for batch in fashion_test_loader:\n",
    "                inputs, labels = batch\n",
    "                outputs = self(inputs)\n",
    "                _, predicted = torch.max(outputs, 1)\n",
    "                total += labels.size(0)\n",
    "                correct += (predicted == labels).sum().item()        \n",
    "        accuracy = 100 * correct / total\n",
    "        return accuracy"
   ]
  },
  {
   "cell_type": "code",
   "execution_count": 20,
   "metadata": {},
   "outputs": [
    {
     "name": "stdout",
     "output_type": "stream",
     "text": [
      "Epoch 1/5, Test Accuracy: 70.79%\n",
      "Epoch 2/5, Test Accuracy: 76.65%\n",
      "Epoch 3/5, Test Accuracy: 78.26%\n",
      "Epoch 4/5, Test Accuracy: 79.35%\n",
      "Epoch 5/5, Test Accuracy: 80.70%\n"
     ]
    }
   ],
   "source": [
    "fashion_network_batch_norm = FashionNetworkBatchNorm()\n",
    "batch_norm_accuracies = fashion_network_batch_norm.optimize(fashion_train_loader, fashion_test_loader)"
   ]
  },
  {
   "cell_type": "markdown",
   "metadata": {},
   "source": [
    "### 3. Plotting the Performances (0.25 points)\n",
    "Plot the accuracies of the 2 networks and **discuss what you observe**."
   ]
  },
  {
   "cell_type": "code",
   "execution_count": 21,
   "metadata": {},
   "outputs": [
    {
     "data": {
      "image/png": "[encoded data removed]",
      "text/plain": [
       "<Figure size 1000x600 with 1 Axes>"
      ]
     },
     "metadata": {},
     "output_type": "display_data"
    }
   ],
   "source": [
    "epochs = range(1, 6)\n",
    "\n",
    "plt.figure(figsize=(10, 6))\n",
    "plt.plot(epochs, basic_accuracies, label=\"Accuracy Without BatchNorm\", marker='o')\n",
    "plt.plot(epochs, batch_norm_accuracies, label=\"Accuracy With BatchNorm\", marker='s')\n",
    "\n",
    "plt.xlabel(\"Epoch\")\n",
    "plt.ylabel(\"Accuracy (%)\")\n",
    "plt.legend()\n",
    "plt.grid(True)\n",
    "plt.show()"
   ]
  },
  {
   "cell_type": "markdown",
   "metadata": {},
   "source": [
    "**Your Answer:**\n",
    "As we can see, the model with BatchNorm layer performs extremely better than the model without batchnorm. As we know, the batch normalization layer ensures stable input distributions for layers. In this context we have only one layer of batchnorm which ensures that the inputs to the next level are normalized and have mean 0 and std 1. This reduces the effects of internal covariate shift, where the distribution of inputs to layers changes as the model learns.\n",
    "\n",
    "As the plot shows, the model with batch normalization outperforms the other model in all the epochs. It even starts with a higher accuracy. This is because batchNorm layer makes the effect of random initialization in the first step less. Without BatchNorm, the initial layers of a neural network might produce activations that are either too large or too small, making it difficult for the network to learn effectively at the beginning of training."
   ]
  }
 ],
 "metadata": {
  "kernelspec": {
   "display_name": "Python 3",
   "language": "python",
   "name": "python3"
  },
  "language_info": {
   "codemirror_mode": {
    "name": "ipython",
    "version": 3
   },
   "file_extension": ".py",
   "mimetype": "text/x-python",
   "name": "python",
   "nbconvert_exporter": "python",
   "pygments_lexer": "ipython3",
   "version": "3.9.6"
  }
 },
 "nbformat": 4,
 "nbformat_minor": 2
}
